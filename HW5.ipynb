{
  "cells": [
    {
      "cell_type": "markdown",
      "metadata": {
        "id": "view-in-github",
        "colab_type": "text"
      },
      "source": [
        "<a href=\"https://colab.research.google.com/github/jon-pun/Spring-2023-ORIE-4741/blob/main/HW5.ipynb\" target=\"_parent\"><img src=\"https://colab.research.google.com/assets/colab-badge.svg\" alt=\"Open In Colab\"/></a>"
      ]
    },
    {
      "cell_type": "markdown",
      "metadata": {
        "id": "yEYDm_ICb4GC"
      },
      "source": [
        "# ORIE 4580/5580/5581 Assignment 5\n",
        "\n",
        "#### Students: Jonathan Yun (jly37)\n",
        "\n",
        "### Github link: [here](https://github.com/jon-pun/Spring-2023-ORIE-4741/blob/main/HW5.ipynb)\n"
      ]
    },
    {
      "cell_type": "markdown",
      "source": [
        "### Instructions\n",
        "\n",
        "\n",
        "* Due Friday, October 13, at 11.59am on Gradescope.\n",
        "* Assignment .ipynb files available for download on [Canvas](https://canvas.cornell.edu/courses/56826#:~:text=Assignments-,Assignments,-Assignments%20Module%20publish). Do all your work in provided notebook (text answers typeset in markdown; show all required code and generate plots inline), and then generate and submit a pdf.\n",
        "* Ideally do assignments in groups of 2, and submit a single pdf with both names\n",
        "* Please show your work and clearly mark your answers.\n",
        "* You can use any code fragments given in class, found online (for example, on StackOverflow), or generated via Bard or ChatGPT (you are encouraged to use these for first drafts) **with proper referencing**. You can also discuss with others (again, please reference them if you do so); but you must write your final answers on your own as a team.\n",
        "\n",
        "\n",
        "\n",
        "### Suggested reading\n",
        "\n",
        "Chapters 8 (all parts) and 9 (up to Section 9.2 for the midterm) of [Simulation by Ross](https://catalog.library.cornell.edu/catalog/12745977)."
      ],
      "metadata": {
        "id": "l3G_wUFRg9v6"
      }
    },
    {
      "cell_type": "markdown",
      "source": [
        "\n",
        "\n",
        "\n",
        "---\n",
        "---\n",
        "\n",
        "\n",
        "# Question 1: Red-Tailed Hawks! (15 points)\n",
        "\n",
        "(Dedicated to [Big Red and Arthur](https://www.youtube.com/watch?v=diIn5tc8AJo), and their amazing family!)\n",
        "\n",
        "A School of Ornithology researcher wants to estimate the number of red-tailed hawks in Ithaca. She radio tags 10 birds, and then sets up a feeding station with automatic camera.\n",
        "\n",
        "The researcher believes that each individual bird's visits to the feeder can be modeled as a *Poisson process* with some unknown rate $\\lambda$; we will talk more about the Poisson process in detail later in the semester (for a quick refresher, see Section 2.9.4 of Ross), but for this question, the main thing you need to know is that this is a process that counts a discrete number of arrivals, where the *inter-arrival* between one arrival and the next is independent and identically distributed as an Exponential$(\\lambda)$ random variable (similar to the trains in question 5b in the previous assignment).\n",
        "\n",
        "**(a)**\n",
        "Over the first five weeks, the researcher observes an average of 28.8 birds (tagged and untagged) visiting the feeder, with an average of 6 tagged birds per week. Use the method of moments to obtain an estimate for the total population."
      ],
      "metadata": {
        "id": "5AMJpIgg0AUP"
      }
    },
    {
      "cell_type": "markdown",
      "source": [
        "___\n",
        "## Ans.\n"
      ],
      "metadata": {
        "id": "FdZFPY8J00Nz"
      }
    },
    {
      "cell_type": "markdown",
      "source": [
        "___\n",
        "\n",
        "**(b)** Next, the researcher develops a video processing program which can identify and distinguish different individual birds from their pictures. Using this, over the next week, she observes 20 unique birds visiting the feeding station, out of which 4 are tagged. What is the MLE for the size of the hawk population in Ithaca?\n",
        "\n",
        "___"
      ],
      "metadata": {
        "id": "kHPnqRj105lL"
      }
    },
    {
      "cell_type": "markdown",
      "source": [
        "## Ans.\n",
        "\n"
      ],
      "metadata": {
        "id": "o-b5c59b2CV-"
      }
    },
    {
      "cell_type": "code",
      "source": [],
      "metadata": {
        "id": "mT-3ogKx2Hzl"
      },
      "execution_count": null,
      "outputs": []
    },
    {
      "cell_type": "markdown",
      "metadata": {
        "id": "YX0Mw-EVb4GE"
      },
      "source": [
        "___\n",
        "___\n",
        "\n",
        "# Question 2: Soup for Lunch? (15 points)\n",
        "\n",
        "The folks at the [Temple of Zeus](https://as.cornell.edu/about/temple-of-zeus) have the best soup offerings at Cornell -- however, by the time you are done with Simulation, they often run out of soup. To remedy this, you want to try and understand the demand for soup, so that you can suggest how much they should make. You decide to model the total demand $N$ for soups each day as a geometric random variable with parameter $p$ (i.e., $P(N = k) = (1-p)^kp$, $k \\ge 0$).\n",
        "\n",
        "The Temple of Zeus manager gives you data for the number of lunches sold in the last $100$ days. One problem though is that the data is *censored*: the staff prepared soup for at most $40$ servings each day, and as a result, the number of sales each day is between 0 and 40. As a result, on days when the number of soups sold is $40$, you cannot be sure what the true demand $N_i$ was (but you know $N_i\\geq 40$); on other days, the number of soups sold is the true demand $N_i<40$."
      ]
    },
    {
      "cell_type": "markdown",
      "metadata": {
        "id": "Yjy3dHqpb4GF"
      },
      "source": [
        "___\n",
        "\n",
        "**(a)**\n",
        "What is the probability mass function of the per-day sales $Y$ in terms of $p$?\n",
        "___\n"
      ]
    },
    {
      "cell_type": "markdown",
      "metadata": {
        "id": "wOQnI769b4GF"
      },
      "source": [
        "## Ans.\n",
        "\n",
        "In this case, the pmf of $Y$ is equal to:\n",
        "\n",
        "\\begin{cases}\n",
        "      (1-p)^{x}p & x\\in \\mathbb{Z}, 0 \\leq x \\leq 39 \\\\\n",
        "      1 - \\sum_{x = 0}^{39}(1-p)^{x}p & x = 40 \\\\\n",
        "      0 & \\text{otherwise}\n",
        "   \\end{cases}\n",
        "\n"
      ]
    },
    {
      "cell_type": "markdown",
      "metadata": {
        "id": "DRpHC9hbb4GF"
      },
      "source": [
        "___\n",
        "\n",
        "**(b)** Compute a maximum likelihood estimator of $p$ based on the sales data for soup given in `Soup_sales_data.csv`.\n",
        "___"
      ]
    },
    {
      "cell_type": "markdown",
      "metadata": {
        "id": "1khe5-56b4GF"
      },
      "source": [
        "## Ans.\n"
      ]
    },
    {
      "cell_type": "code",
      "source": [
        "# packages\n",
        "import scipy as sc\n",
        "import numpy as np\n",
        "import pandas as pd"
      ],
      "metadata": {
        "id": "00N4KuJqlEHf"
      },
      "execution_count": 2,
      "outputs": []
    },
    {
      "cell_type": "code",
      "source": [
        "# import data\n",
        "soup = pd.read_csv(\"Soup_sales_data.csv\")"
      ],
      "metadata": {
        "id": "RPm78N20ql-s"
      },
      "execution_count": null,
      "outputs": []
    },
    {
      "cell_type": "code",
      "source": [
        "soup.head()"
      ],
      "metadata": {
        "colab": {
          "base_uri": "https://localhost:8080/",
          "height": 204
        },
        "id": "y1-NwOypqsYf",
        "outputId": "363a3295-5ab2-4c69-ac53-b2b47db90658"
      },
      "execution_count": null,
      "outputs": [
        {
          "output_type": "execute_result",
          "data": {
            "text/plain": [
              "   Day   Y\n",
              "0    1  40\n",
              "1    2   3\n",
              "2    3  33\n",
              "3    4  24\n",
              "4    5  28"
            ],
            "text/html": [
              "\n",
              "  <div id=\"df-a29629d9-add2-4f9d-9265-9442e98695be\" class=\"colab-df-container\">\n",
              "    <div>\n",
              "<style scoped>\n",
              "    .dataframe tbody tr th:only-of-type {\n",
              "        vertical-align: middle;\n",
              "    }\n",
              "\n",
              "    .dataframe tbody tr th {\n",
              "        vertical-align: top;\n",
              "    }\n",
              "\n",
              "    .dataframe thead th {\n",
              "        text-align: right;\n",
              "    }\n",
              "</style>\n",
              "<table border=\"1\" class=\"dataframe\">\n",
              "  <thead>\n",
              "    <tr style=\"text-align: right;\">\n",
              "      <th></th>\n",
              "      <th>Day</th>\n",
              "      <th>Y</th>\n",
              "    </tr>\n",
              "  </thead>\n",
              "  <tbody>\n",
              "    <tr>\n",
              "      <th>0</th>\n",
              "      <td>1</td>\n",
              "      <td>40</td>\n",
              "    </tr>\n",
              "    <tr>\n",
              "      <th>1</th>\n",
              "      <td>2</td>\n",
              "      <td>3</td>\n",
              "    </tr>\n",
              "    <tr>\n",
              "      <th>2</th>\n",
              "      <td>3</td>\n",
              "      <td>33</td>\n",
              "    </tr>\n",
              "    <tr>\n",
              "      <th>3</th>\n",
              "      <td>4</td>\n",
              "      <td>24</td>\n",
              "    </tr>\n",
              "    <tr>\n",
              "      <th>4</th>\n",
              "      <td>5</td>\n",
              "      <td>28</td>\n",
              "    </tr>\n",
              "  </tbody>\n",
              "</table>\n",
              "</div>\n",
              "    <div class=\"colab-df-buttons\">\n",
              "\n",
              "  <div class=\"colab-df-container\">\n",
              "    <button class=\"colab-df-convert\" onclick=\"convertToInteractive('df-a29629d9-add2-4f9d-9265-9442e98695be')\"\n",
              "            title=\"Convert this dataframe to an interactive table.\"\n",
              "            style=\"display:none;\">\n",
              "\n",
              "  <svg xmlns=\"http://www.w3.org/2000/svg\" height=\"24px\" viewBox=\"0 -960 960 960\">\n",
              "    <path d=\"M120-120v-720h720v720H120Zm60-500h600v-160H180v160Zm220 220h160v-160H400v160Zm0 220h160v-160H400v160ZM180-400h160v-160H180v160Zm440 0h160v-160H620v160ZM180-180h160v-160H180v160Zm440 0h160v-160H620v160Z\"/>\n",
              "  </svg>\n",
              "    </button>\n",
              "\n",
              "  <style>\n",
              "    .colab-df-container {\n",
              "      display:flex;\n",
              "      gap: 12px;\n",
              "    }\n",
              "\n",
              "    .colab-df-convert {\n",
              "      background-color: #E8F0FE;\n",
              "      border: none;\n",
              "      border-radius: 50%;\n",
              "      cursor: pointer;\n",
              "      display: none;\n",
              "      fill: #1967D2;\n",
              "      height: 32px;\n",
              "      padding: 0 0 0 0;\n",
              "      width: 32px;\n",
              "    }\n",
              "\n",
              "    .colab-df-convert:hover {\n",
              "      background-color: #E2EBFA;\n",
              "      box-shadow: 0px 1px 2px rgba(60, 64, 67, 0.3), 0px 1px 3px 1px rgba(60, 64, 67, 0.15);\n",
              "      fill: #174EA6;\n",
              "    }\n",
              "\n",
              "    .colab-df-buttons div {\n",
              "      margin-bottom: 4px;\n",
              "    }\n",
              "\n",
              "    [theme=dark] .colab-df-convert {\n",
              "      background-color: #3B4455;\n",
              "      fill: #D2E3FC;\n",
              "    }\n",
              "\n",
              "    [theme=dark] .colab-df-convert:hover {\n",
              "      background-color: #434B5C;\n",
              "      box-shadow: 0px 1px 3px 1px rgba(0, 0, 0, 0.15);\n",
              "      filter: drop-shadow(0px 1px 2px rgba(0, 0, 0, 0.3));\n",
              "      fill: #FFFFFF;\n",
              "    }\n",
              "  </style>\n",
              "\n",
              "    <script>\n",
              "      const buttonEl =\n",
              "        document.querySelector('#df-a29629d9-add2-4f9d-9265-9442e98695be button.colab-df-convert');\n",
              "      buttonEl.style.display =\n",
              "        google.colab.kernel.accessAllowed ? 'block' : 'none';\n",
              "\n",
              "      async function convertToInteractive(key) {\n",
              "        const element = document.querySelector('#df-a29629d9-add2-4f9d-9265-9442e98695be');\n",
              "        const dataTable =\n",
              "          await google.colab.kernel.invokeFunction('convertToInteractive',\n",
              "                                                    [key], {});\n",
              "        if (!dataTable) return;\n",
              "\n",
              "        const docLinkHtml = 'Like what you see? Visit the ' +\n",
              "          '<a target=\"_blank\" href=https://colab.research.google.com/notebooks/data_table.ipynb>data table notebook</a>'\n",
              "          + ' to learn more about interactive tables.';\n",
              "        element.innerHTML = '';\n",
              "        dataTable['output_type'] = 'display_data';\n",
              "        await google.colab.output.renderOutput(dataTable, element);\n",
              "        const docLink = document.createElement('div');\n",
              "        docLink.innerHTML = docLinkHtml;\n",
              "        element.appendChild(docLink);\n",
              "      }\n",
              "    </script>\n",
              "  </div>\n",
              "\n",
              "\n",
              "<div id=\"df-8edcb32f-7064-4fef-a3ac-600f01423ed8\">\n",
              "  <button class=\"colab-df-quickchart\" onclick=\"quickchart('df-8edcb32f-7064-4fef-a3ac-600f01423ed8')\"\n",
              "            title=\"Suggest charts.\"\n",
              "            style=\"display:none;\">\n",
              "\n",
              "<svg xmlns=\"http://www.w3.org/2000/svg\" height=\"24px\"viewBox=\"0 0 24 24\"\n",
              "     width=\"24px\">\n",
              "    <g>\n",
              "        <path d=\"M19 3H5c-1.1 0-2 .9-2 2v14c0 1.1.9 2 2 2h14c1.1 0 2-.9 2-2V5c0-1.1-.9-2-2-2zM9 17H7v-7h2v7zm4 0h-2V7h2v10zm4 0h-2v-4h2v4z\"/>\n",
              "    </g>\n",
              "</svg>\n",
              "  </button>\n",
              "\n",
              "<style>\n",
              "  .colab-df-quickchart {\n",
              "      --bg-color: #E8F0FE;\n",
              "      --fill-color: #1967D2;\n",
              "      --hover-bg-color: #E2EBFA;\n",
              "      --hover-fill-color: #174EA6;\n",
              "      --disabled-fill-color: #AAA;\n",
              "      --disabled-bg-color: #DDD;\n",
              "  }\n",
              "\n",
              "  [theme=dark] .colab-df-quickchart {\n",
              "      --bg-color: #3B4455;\n",
              "      --fill-color: #D2E3FC;\n",
              "      --hover-bg-color: #434B5C;\n",
              "      --hover-fill-color: #FFFFFF;\n",
              "      --disabled-bg-color: #3B4455;\n",
              "      --disabled-fill-color: #666;\n",
              "  }\n",
              "\n",
              "  .colab-df-quickchart {\n",
              "    background-color: var(--bg-color);\n",
              "    border: none;\n",
              "    border-radius: 50%;\n",
              "    cursor: pointer;\n",
              "    display: none;\n",
              "    fill: var(--fill-color);\n",
              "    height: 32px;\n",
              "    padding: 0;\n",
              "    width: 32px;\n",
              "  }\n",
              "\n",
              "  .colab-df-quickchart:hover {\n",
              "    background-color: var(--hover-bg-color);\n",
              "    box-shadow: 0 1px 2px rgba(60, 64, 67, 0.3), 0 1px 3px 1px rgba(60, 64, 67, 0.15);\n",
              "    fill: var(--button-hover-fill-color);\n",
              "  }\n",
              "\n",
              "  .colab-df-quickchart-complete:disabled,\n",
              "  .colab-df-quickchart-complete:disabled:hover {\n",
              "    background-color: var(--disabled-bg-color);\n",
              "    fill: var(--disabled-fill-color);\n",
              "    box-shadow: none;\n",
              "  }\n",
              "\n",
              "  .colab-df-spinner {\n",
              "    border: 2px solid var(--fill-color);\n",
              "    border-color: transparent;\n",
              "    border-bottom-color: var(--fill-color);\n",
              "    animation:\n",
              "      spin 1s steps(1) infinite;\n",
              "  }\n",
              "\n",
              "  @keyframes spin {\n",
              "    0% {\n",
              "      border-color: transparent;\n",
              "      border-bottom-color: var(--fill-color);\n",
              "      border-left-color: var(--fill-color);\n",
              "    }\n",
              "    20% {\n",
              "      border-color: transparent;\n",
              "      border-left-color: var(--fill-color);\n",
              "      border-top-color: var(--fill-color);\n",
              "    }\n",
              "    30% {\n",
              "      border-color: transparent;\n",
              "      border-left-color: var(--fill-color);\n",
              "      border-top-color: var(--fill-color);\n",
              "      border-right-color: var(--fill-color);\n",
              "    }\n",
              "    40% {\n",
              "      border-color: transparent;\n",
              "      border-right-color: var(--fill-color);\n",
              "      border-top-color: var(--fill-color);\n",
              "    }\n",
              "    60% {\n",
              "      border-color: transparent;\n",
              "      border-right-color: var(--fill-color);\n",
              "    }\n",
              "    80% {\n",
              "      border-color: transparent;\n",
              "      border-right-color: var(--fill-color);\n",
              "      border-bottom-color: var(--fill-color);\n",
              "    }\n",
              "    90% {\n",
              "      border-color: transparent;\n",
              "      border-bottom-color: var(--fill-color);\n",
              "    }\n",
              "  }\n",
              "</style>\n",
              "\n",
              "  <script>\n",
              "    async function quickchart(key) {\n",
              "      const quickchartButtonEl =\n",
              "        document.querySelector('#' + key + ' button');\n",
              "      quickchartButtonEl.disabled = true;  // To prevent multiple clicks.\n",
              "      quickchartButtonEl.classList.add('colab-df-spinner');\n",
              "      try {\n",
              "        const charts = await google.colab.kernel.invokeFunction(\n",
              "            'suggestCharts', [key], {});\n",
              "      } catch (error) {\n",
              "        console.error('Error during call to suggestCharts:', error);\n",
              "      }\n",
              "      quickchartButtonEl.classList.remove('colab-df-spinner');\n",
              "      quickchartButtonEl.classList.add('colab-df-quickchart-complete');\n",
              "    }\n",
              "    (() => {\n",
              "      let quickchartButtonEl =\n",
              "        document.querySelector('#df-8edcb32f-7064-4fef-a3ac-600f01423ed8 button');\n",
              "      quickchartButtonEl.style.display =\n",
              "        google.colab.kernel.accessAllowed ? 'block' : 'none';\n",
              "    })();\n",
              "  </script>\n",
              "</div>\n",
              "    </div>\n",
              "  </div>\n"
            ]
          },
          "metadata": {},
          "execution_count": 4
        }
      ]
    },
    {
      "cell_type": "markdown",
      "source": [
        "Since we know that the likelihood of the sample is the product of the individual likelihoods:\n",
        "\n",
        "\\begin{align*}\n",
        "L(p) &= \\prod\\limits_{i=1}^n Y(X_i | p) \\\\\n",
        "\\ln L(p) &= \\sum_{i=1}^n\\ln(Y(X_i | p))\n",
        "\\end{align*}\n",
        "\n",
        "From here, we can actually use `scipy.optimize.minimize` to maximize the log-likelihood function (or, I guess minimize the negative version of it, which is the same thing), and thus find the MLE estimate, $\\hat{p}$."
      ],
      "metadata": {
        "id": "8UkezzbnuHdr"
      }
    },
    {
      "cell_type": "code",
      "source": [
        "# first, construct the pmf, given some p\n",
        "\n",
        "def pmf_1(x, p):\n",
        "\n",
        "  if x == 40:\n",
        "    probs_1_30 = []\n",
        "    for i in range(40):\n",
        "      probs_1_30.append((1 - p)**i * p)\n",
        "    return 1 - np.sum(probs_1_30)\n",
        "  elif x >= 0 and x <= 39:\n",
        "    return (1 - p)**(x) * p\n",
        "  else:\n",
        "    return 0\n",
        "\n",
        "# then, construct the log_likelihood function, for some array of data x and some p\n",
        "def log_likelihood(x, p):\n",
        "  n = len(x)\n",
        "  likelihood = []\n",
        "\n",
        "  for i in range(n):\n",
        "    likelihood.append(pmf_1(x[i], p))\n",
        "  return np.log(np.prod(likelihood))\n",
        "\n",
        "# now, specify the negative log-likelihood, also inputting the data from which the MLE estimator will be constructed\n",
        "def neg_log_likelihood(p):\n",
        "  x = np.array(soup['Y'])\n",
        "  log_lik = log_likelihood(x, p)\n",
        "  return -1 * log_lik"
      ],
      "metadata": {
        "id": "ZuaK-eO4xX_i"
      },
      "execution_count": null,
      "outputs": []
    },
    {
      "cell_type": "code",
      "source": [
        "# now, scipy.optimize.minimize\n",
        "\n",
        "opt = sc.optimize.minimize(neg_log_likelihood, x0 = 0.1, bounds = sc.optimize.Bounds(lb = 0.001, ub = 1))\n",
        "mle_est = opt.x\n",
        "\n",
        "print(mle_est)"
      ],
      "metadata": {
        "colab": {
          "base_uri": "https://localhost:8080/"
        },
        "id": "93e6NvcBz-6V",
        "outputId": "5dc42b79-7139-44d6-dbc2-107200e2e82c"
      },
      "execution_count": null,
      "outputs": [
        {
          "output_type": "stream",
          "name": "stdout",
          "text": [
            "[0.02679658]\n"
          ]
        }
      ]
    },
    {
      "cell_type": "code",
      "source": [
        "import matplotlib.pyplot as plt\n",
        "plt.plot(np.arange(0.0, 1.0, 0.01), -1 * neg_log_likelihood(np.arange(0.0, 1.0, 0.01)))\n",
        "plt.title(\"The Log-Likelihood Function for Y\")"
      ],
      "metadata": {
        "colab": {
          "base_uri": "https://localhost:8080/",
          "height": 503
        },
        "id": "HAti7v0X6gXC",
        "outputId": "05322a4f-0a61-4112-bd23-362cc7f9d2fc"
      },
      "execution_count": null,
      "outputs": [
        {
          "output_type": "stream",
          "name": "stderr",
          "text": [
            "<ipython-input-55-5511c2bbf704>:22: RuntimeWarning: divide by zero encountered in log\n",
            "  return np.log(np.prod(likelihood))\n"
          ]
        },
        {
          "output_type": "execute_result",
          "data": {
            "text/plain": [
              "Text(0.5, 1.0, 'The Log-Likelihood Function for Y')"
            ]
          },
          "metadata": {},
          "execution_count": 61
        },
        {
          "output_type": "display_data",
          "data": {
            "text/plain": [
              "<Figure size 640x480 with 1 Axes>"
            ],
            "image/png": "[encoded data removed]"
          },
          "metadata": {}
        }
      ]
    },
    {
      "cell_type": "markdown",
      "source": [
        "Both `scipy.optimize.optimize` and the plot seem to support the same conclusion: $\\hat{p} = 0.0268$!"
      ],
      "metadata": {
        "id": "RaM_8gwf8Jat"
      }
    },
    {
      "cell_type": "markdown",
      "source": [
        "___\n",
        "___\n",
        "\n",
        "# Question 3: The Birthday Paradox (40 pts)\n",
        "\n",
        "In this question, we investigate the celebrated [birthday paradox](https://en.wikipedia.org/wiki/Birthday_problem)!"
      ],
      "metadata": {
        "id": "Lh-UW13FuhSQ"
      }
    },
    {
      "cell_type": "markdown",
      "source": [
        "___\n",
        "\n",
        "**(a)** The basic question you may have seen in earlier probability courses is the following: given a party of $n$ people whose birthdays are drawn uniformly over the $365$ days in the year, what is the probability that at least two people share a birthday. Derive an expression for the probability, and plot it for $n\\in\\{10,11,12,\\ldots,49,50\\}$.\n",
        "___"
      ],
      "metadata": {
        "id": "yc0A7WxsuyEy"
      }
    },
    {
      "cell_type": "markdown",
      "source": [
        "## Ans."
      ],
      "metadata": {
        "id": "EGsUT8JvwI-7"
      }
    },
    {
      "cell_type": "markdown",
      "source": [
        "Intuitively, it is actually easier to determine the odds that *no one* shares a birthday, which is as follows:\n",
        "\n",
        "for $n = 1$, that $P(\\text{sharing a birthday}) = 1$  \n",
        "for $n = 2$, that $P(\\text{sharing a birthday}) = 1 \\times \\frac{364}{365}$  \n",
        "for $n = 3$, that $P(\\text{sharing a birthday}) = 1 \\times \\frac{364}{365} \\times \\frac{363}{365}$   \n",
        "for $n = 4$, that $P(\\text{sharing a birthday}) = 1 \\times \\frac{364}{365} \\times \\frac{363}{365} \\times \\frac{362}{365}$   \n",
        "and so on, such that we can say that the overall probability no one $x$ people sharing a birthday is as follows:\n",
        "\n",
        "$$ p(x) = \\frac{365!}{365^x  \\times (n-1)!}$$ provided $x < 365$ (intuitively, $p(x) = 0$ when $x \\geq 365$).  \n",
        "\n",
        "Thusly, we can take the compliment to determine the odds of *at least two people sharing a birthday*, which is as follows:\n",
        "\n",
        "$$ p(x) = 1 - \\frac{365!}{365^x  \\times (365 - x)!}$$ provided $x < 365$ (intuitively, $p(x) = 1$ when $x \\geq 365$).\n"
      ],
      "metadata": {
        "id": "eeEEBvJcCIbM"
      }
    },
    {
      "cell_type": "code",
      "source": [
        "# plotting this out\n",
        "\n",
        "n = np.arange(10,51,1)\n",
        "output = []\n",
        "for i in n:\n",
        "  probs_zero = np.zeros(i)\n",
        "  for j in range(i):\n",
        "    probs_zero[j] = (365 - j) / 365\n",
        "  output.append(1 - np.prod(probs_zero))\n",
        "\n",
        "print(output)\n",
        "\n",
        "plt.plot(n, output)\n",
        "plt.title(\"Birthday Problem Odds: n in [11,50]\")\n",
        "plt.xlabel(\"n\")\n",
        "plt.ylabel(\"probability\")"
      ],
      "metadata": {
        "id": "CGZf5O0Kx9Ws",
        "colab": {
          "base_uri": "https://localhost:8080/",
          "height": 526
        },
        "outputId": "8f8f9c5d-c22e-4823-ce58-c1ca25d9e743"
      },
      "execution_count": null,
      "outputs": [
        {
          "output_type": "stream",
          "name": "stdout",
          "text": [
            "[0.11694817771107768, 0.14114137832173312, 0.1670247888380645, 0.19441027523242949, 0.2231025120049731, 0.25290131976368646, 0.2836040052528501, 0.3150076652965609, 0.3469114178717896, 0.37911852603153695, 0.41143838358058027, 0.443688335165206, 0.4756953076625503, 0.5072972343239857, 0.538344257914529, 0.568699703969464, 0.598240820135939, 0.6268592822632421, 0.6544614723423995, 0.6809685374777771, 0.7063162427192688, 0.7304546337286439, 0.7533475278503208, 0.7749718541757721, 0.7953168646201543, 0.8143832388747153, 0.8321821063798795, 0.8487340082163846, 0.864067821082121, 0.878219664366722, 0.891231809817949, 0.9031516114817354, 0.9140304715618692, 0.9239228556561199, 0.9328853685514263, 0.940975899465775, 0.9482528433672548, 0.9547744028332994, 0.9605979728794225, 0.9657796093226765, 0.9703735795779884]\n"
          ]
        },
        {
          "output_type": "execute_result",
          "data": {
            "text/plain": [
              "Text(0, 0.5, 'probability')"
            ]
          },
          "metadata": {},
          "execution_count": 96
        },
        {
          "output_type": "display_data",
          "data": {
            "text/plain": [
              "<Figure size 640x480 with 1 Axes>"
            ],
            "image/png": "[encoded data removed]"
          },
          "metadata": {}
        }
      ]
    },
    {
      "cell_type": "markdown",
      "source": [
        "___\n",
        "**(b)** Next, we want to obtain the above probabilities by simulation. For a given $n$, perform simulations so as to estimate the probability  of at least two people sharing birthdays in a group of $n$, for $n\\in\\{15,16,\\ldots,30\\}$, up to $2$ decimal places (with $95\\%$ confidence). Plot the estimates and $95\\%$ CI, and also plot the theoretical result from part $(a)$ in the same plot.\n",
        "___"
      ],
      "metadata": {
        "id": "QhBwTPrLwKhV"
      }
    },
    {
      "cell_type": "markdown",
      "source": [
        "## Ans."
      ],
      "metadata": {
        "id": "_u8ikVrMx664"
      }
    },
    {
      "cell_type": "markdown",
      "source": [
        "First, some quick math: for the $95\\%$ CI to be within 2 decimal places, we want the upper and lower bound of the CI to have a width of $0.005$; thus, with $z = 1.96$, the standard deviation of the estimate should be $\\frac{.005}{1.96} = 0.00255$.  \n",
        "\n",
        "Thus, every time we run a simulation, we should adjust initial $k$ to get this same sample $\\hat{\\sigma}$. Without further ado:"
      ],
      "metadata": {
        "id": "D81g_MPrMCWk"
      }
    },
    {
      "cell_type": "code",
      "source": [
        "# first, a way to simulate the assignment of people to days; in this case, i'll assign each person a day (1,2,...,365) to be their birthday\n",
        "# if there are any repeats in this list of birthday, two people share the birthday; else, there is no sharing\n",
        "\n",
        "# get n\n",
        "n = np.arange(15,31,1)\n",
        "\n",
        "est = []\n",
        "std = []\n",
        "\n",
        "# setting k for 'pilot run'\n",
        "k = 100\n",
        "\n",
        "for i in range(len(n)):\n",
        "\n",
        "  # performing the pilot run\n",
        "\n",
        "  results = np.zeros(k)\n",
        "\n",
        "  for j in range(k):\n",
        "    sims = np.random.uniform(0, 1, n[i])\n",
        "    sims = np.floor(365 * sims + 1)\n",
        "\n",
        "    sims = pd.Series(sims)\n",
        "\n",
        "    if sims.duplicated().any():\n",
        "      results[j] = 1\n",
        "    else:\n",
        "      results[j] = 0\n",
        "\n",
        "  # computing std_k and mu_k, so we can adjust and find N\n",
        "  mu_k = np.sum(results) / k\n",
        "  std_k = np.std(results)\n",
        "\n",
        "  # finding N\n",
        "  N = int(np.ceil(1.96**2 * std_k**2 / (.005**2)))\n",
        "\n",
        "  # now, run the actual test, with sample size N\n",
        "\n",
        "  results = np.zeros(N)\n",
        "\n",
        "  for j in range(N):\n",
        "    sims = np.random.uniform(0, 1, n[i])\n",
        "    sims = np.floor(365 * sims + 1)\n",
        "\n",
        "    sims = pd.Series(sims)\n",
        "\n",
        "    if sims.duplicated().any():\n",
        "      results[j] = 1\n",
        "    else:\n",
        "      results[j] = 0\n",
        "\n",
        "  mu_N = np.sum(results) / N\n",
        "  std_N = np.std(results) / np.sqrt(N)\n",
        "\n",
        "  est.append(mu_N)\n",
        "  std.append(std_N)\n",
        "\n",
        "\n",
        "\n"
      ],
      "metadata": {
        "id": "L9gMbHO2x8cT"
      },
      "execution_count": null,
      "outputs": []
    },
    {
      "cell_type": "code",
      "source": [
        "print(std)"
      ],
      "metadata": {
        "colab": {
          "base_uri": "https://localhost:8080/"
        },
        "id": "vmbzmyZXStVd",
        "outputId": "57dc2bce-462b-4c1e-a3b8-05b95934791a"
      },
      "execution_count": null,
      "outputs": [
        {
          "output_type": "stream",
          "name": "stdout",
          "text": [
            "[0.002714374695327653, 0.0024036115715632893, 0.0025491478405163972, 0.002489302173849855, 0.0025137374892208113, 0.0025211293800824312, 0.0025596414738779925, 0.0025481212304892626, 0.002559009124618506, 0.002577721179671991, 0.0025667590713449396, 0.0025055170552857682, 0.0024923099170428035, 0.0024475114067383217, 0.002464179213288866, 0.002685728243009683]\n"
          ]
        }
      ]
    },
    {
      "cell_type": "markdown",
      "source": [
        "Incredible! The standard deviations for the CI bounds look absolutely perfect :)\n",
        "\n",
        "Now, all that's left to do is some plotting!"
      ],
      "metadata": {
        "id": "Mk8cHgejTksf"
      }
    },
    {
      "cell_type": "code",
      "source": [
        "# plotting the output of the simulations, with CIs\n",
        "plt.plot(n, est, label = 'simulation', color = 'blue')\n",
        "plt.errorbar(n, est, yerr = 1.96 * np.array(std), ecolor = 'blue')\n",
        "\n",
        "# plotting the actual probabilities\n",
        "\n",
        "output = []\n",
        "for i in n:\n",
        "  probs_zero = np.zeros(i)\n",
        "  for j in range(i):\n",
        "    probs_zero[j] = (365 - j) / 365\n",
        "  output.append(1 - np.prod(probs_zero))\n",
        "\n",
        "plt.plot(n, output, label = 'actual prob', color = 'green')\n",
        "plt.legend()\n",
        "\n",
        "plt.title(\"Probability vs. Simulation: Birthday Paradox for n = [15,30]\")\n",
        "plt.xlabel(\"n\")\n",
        "plt.ylabel(\"probability\")\n"
      ],
      "metadata": {
        "colab": {
          "base_uri": "https://localhost:8080/",
          "height": 489
        },
        "id": "9wUp3dfhTsYE",
        "outputId": "a77fbbe7-86e8-4f44-dc46-ed3437898300"
      },
      "execution_count": null,
      "outputs": [
        {
          "output_type": "execute_result",
          "data": {
            "text/plain": [
              "Text(0, 0.5, 'probability')"
            ]
          },
          "metadata": {},
          "execution_count": 100
        },
        {
          "output_type": "display_data",
          "data": {
            "text/plain": [
              "<Figure size 640x480 with 1 Axes>"
            ],
            "image/png": "[encoded data removed]"
          },
          "metadata": {}
        }
      ]
    },
    {
      "cell_type": "markdown",
      "source": [
        "\n",
        "\n",
        "---\n",
        "\n",
        "**(c)** One flaw in our analysis is that birth-dates may not be uniformly distributed throughout the year. To check this, we can look at data of real birth-dates.\n",
        "\n",
        "The file `bdaydata.txt` has a list of $365$ days in the year (excluding February $29$) and the corresponding number of birthdays on that date. Load the dataset and plot the following:\n",
        "\n",
        "i. Empirical histogram of the data\n",
        "\n",
        "ii. Empirical cdf\n",
        "\n",
        "iii. Q-Q plot comparing the data to a uniform distribution\n",
        "\n",
        "(Dataset based on life insurance data from 1981-94; data and example courtesy [Roy Murphy](http://www.panix.com/~murphy/bday.html).)\n",
        "___"
      ],
      "metadata": {
        "id": "fT4Jt0Inx99q"
      }
    },
    {
      "cell_type": "markdown",
      "source": [
        "## Ans."
      ],
      "metadata": {
        "id": "g4c_Csc_ywpw"
      }
    },
    {
      "cell_type": "code",
      "source": [
        "# For loading the data, you can use \"df = pd.read_csv('bdaydata.txt',sep=' ')\"\n",
        "# Please note that the txt file needs to be placed in the same folder with the ipynb file.\n",
        "# To extract the counts column as a vector, use \"df.values[:,1]\""
      ],
      "metadata": {
        "id": "NkcHgFB4yy41"
      },
      "execution_count": null,
      "outputs": []
    },
    {
      "cell_type": "code",
      "source": [
        "# first, let's load in the data\n",
        "\n",
        "bdays = pd.read_csv('bdaydata.txt', sep = ' ')\n",
        "bdays.head(10)"
      ],
      "metadata": {
        "colab": {
          "base_uri": "https://localhost:8080/",
          "height": 359
        },
        "id": "PU51r4mTU__j",
        "outputId": "2e96f451-183b-4669-a919-8152d5e45d04"
      },
      "execution_count": 25,
      "outputs": [
        {
          "output_type": "execute_result",
          "data": {
            "text/plain": [
              "   date  count\n",
              "0   101   1482\n",
              "1   102   1213\n",
              "2   103   1220\n",
              "3   104   1319\n",
              "4   105   1262\n",
              "5   106   1271\n",
              "6   107   1355\n",
              "7   108   1219\n",
              "8   109   1253\n",
              "9   110   1339"
            ],
            "text/html": [
              "\n",
              "  <div id=\"df-4e7527eb-9cbf-4681-b735-9761a5610b1c\" class=\"colab-df-container\">\n",
              "    <div>\n",
              "<style scoped>\n",
              "    .dataframe tbody tr th:only-of-type {\n",
              "        vertical-align: middle;\n",
              "    }\n",
              "\n",
              "    .dataframe tbody tr th {\n",
              "        vertical-align: top;\n",
              "    }\n",
              "\n",
              "    .dataframe thead th {\n",
              "        text-align: right;\n",
              "    }\n",
              "</style>\n",
              "<table border=\"1\" class=\"dataframe\">\n",
              "  <thead>\n",
              "    <tr style=\"text-align: right;\">\n",
              "      <th></th>\n",
              "      <th>date</th>\n",
              "      <th>count</th>\n",
              "    </tr>\n",
              "  </thead>\n",
              "  <tbody>\n",
              "    <tr>\n",
              "      <th>0</th>\n",
              "      <td>101</td>\n",
              "      <td>1482</td>\n",
              "    </tr>\n",
              "    <tr>\n",
              "      <th>1</th>\n",
              "      <td>102</td>\n",
              "      <td>1213</td>\n",
              "    </tr>\n",
              "    <tr>\n",
              "      <th>2</th>\n",
              "      <td>103</td>\n",
              "      <td>1220</td>\n",
              "    </tr>\n",
              "    <tr>\n",
              "      <th>3</th>\n",
              "      <td>104</td>\n",
              "      <td>1319</td>\n",
              "    </tr>\n",
              "    <tr>\n",
              "      <th>4</th>\n",
              "      <td>105</td>\n",
              "      <td>1262</td>\n",
              "    </tr>\n",
              "    <tr>\n",
              "      <th>5</th>\n",
              "      <td>106</td>\n",
              "      <td>1271</td>\n",
              "    </tr>\n",
              "    <tr>\n",
              "      <th>6</th>\n",
              "      <td>107</td>\n",
              "      <td>1355</td>\n",
              "    </tr>\n",
              "    <tr>\n",
              "      <th>7</th>\n",
              "      <td>108</td>\n",
              "      <td>1219</td>\n",
              "    </tr>\n",
              "    <tr>\n",
              "      <th>8</th>\n",
              "      <td>109</td>\n",
              "      <td>1253</td>\n",
              "    </tr>\n",
              "    <tr>\n",
              "      <th>9</th>\n",
              "      <td>110</td>\n",
              "      <td>1339</td>\n",
              "    </tr>\n",
              "  </tbody>\n",
              "</table>\n",
              "</div>\n",
              "    <div class=\"colab-df-buttons\">\n",
              "\n",
              "  <div class=\"colab-df-container\">\n",
              "    <button class=\"colab-df-convert\" onclick=\"convertToInteractive('df-4e7527eb-9cbf-4681-b735-9761a5610b1c')\"\n",
              "            title=\"Convert this dataframe to an interactive table.\"\n",
              "            style=\"display:none;\">\n",
              "\n",
              "  <svg xmlns=\"http://www.w3.org/2000/svg\" height=\"24px\" viewBox=\"0 -960 960 960\">\n",
              "    <path d=\"M120-120v-720h720v720H120Zm60-500h600v-160H180v160Zm220 220h160v-160H400v160Zm0 220h160v-160H400v160ZM180-400h160v-160H180v160Zm440 0h160v-160H620v160ZM180-180h160v-160H180v160Zm440 0h160v-160H620v160Z\"/>\n",
              "  </svg>\n",
              "    </button>\n",
              "\n",
              "  <style>\n",
              "    .colab-df-container {\n",
              "      display:flex;\n",
              "      gap: 12px;\n",
              "    }\n",
              "\n",
              "    .colab-df-convert {\n",
              "      background-color: #E8F0FE;\n",
              "      border: none;\n",
              "      border-radius: 50%;\n",
              "      cursor: pointer;\n",
              "      display: none;\n",
              "      fill: #1967D2;\n",
              "      height: 32px;\n",
              "      padding: 0 0 0 0;\n",
              "      width: 32px;\n",
              "    }\n",
              "\n",
              "    .colab-df-convert:hover {\n",
              "      background-color: #E2EBFA;\n",
              "      box-shadow: 0px 1px 2px rgba(60, 64, 67, 0.3), 0px 1px 3px 1px rgba(60, 64, 67, 0.15);\n",
              "      fill: #174EA6;\n",
              "    }\n",
              "\n",
              "    .colab-df-buttons div {\n",
              "      margin-bottom: 4px;\n",
              "    }\n",
              "\n",
              "    [theme=dark] .colab-df-convert {\n",
              "      background-color: #3B4455;\n",
              "      fill: #D2E3FC;\n",
              "    }\n",
              "\n",
              "    [theme=dark] .colab-df-convert:hover {\n",
              "      background-color: #434B5C;\n",
              "      box-shadow: 0px 1px 3px 1px rgba(0, 0, 0, 0.15);\n",
              "      filter: drop-shadow(0px 1px 2px rgba(0, 0, 0, 0.3));\n",
              "      fill: #FFFFFF;\n",
              "    }\n",
              "  </style>\n",
              "\n",
              "    <script>\n",
              "      const buttonEl =\n",
              "        document.querySelector('#df-4e7527eb-9cbf-4681-b735-9761a5610b1c button.colab-df-convert');\n",
              "      buttonEl.style.display =\n",
              "        google.colab.kernel.accessAllowed ? 'block' : 'none';\n",
              "\n",
              "      async function convertToInteractive(key) {\n",
              "        const element = document.querySelector('#df-4e7527eb-9cbf-4681-b735-9761a5610b1c');\n",
              "        const dataTable =\n",
              "          await google.colab.kernel.invokeFunction('convertToInteractive',\n",
              "                                                    [key], {});\n",
              "        if (!dataTable) return;\n",
              "\n",
              "        const docLinkHtml = 'Like what you see? Visit the ' +\n",
              "          '<a target=\"_blank\" href=https://colab.research.google.com/notebooks/data_table.ipynb>data table notebook</a>'\n",
              "          + ' to learn more about interactive tables.';\n",
              "        element.innerHTML = '';\n",
              "        dataTable['output_type'] = 'display_data';\n",
              "        await google.colab.output.renderOutput(dataTable, element);\n",
              "        const docLink = document.createElement('div');\n",
              "        docLink.innerHTML = docLinkHtml;\n",
              "        element.appendChild(docLink);\n",
              "      }\n",
              "    </script>\n",
              "  </div>\n",
              "\n",
              "\n",
              "<div id=\"df-6bb432db-f811-430c-b00b-a453131ff9e3\">\n",
              "  <button class=\"colab-df-quickchart\" onclick=\"quickchart('df-6bb432db-f811-430c-b00b-a453131ff9e3')\"\n",
              "            title=\"Suggest charts.\"\n",
              "            style=\"display:none;\">\n",
              "\n",
              "<svg xmlns=\"http://www.w3.org/2000/svg\" height=\"24px\"viewBox=\"0 0 24 24\"\n",
              "     width=\"24px\">\n",
              "    <g>\n",
              "        <path d=\"M19 3H5c-1.1 0-2 .9-2 2v14c0 1.1.9 2 2 2h14c1.1 0 2-.9 2-2V5c0-1.1-.9-2-2-2zM9 17H7v-7h2v7zm4 0h-2V7h2v10zm4 0h-2v-4h2v4z\"/>\n",
              "    </g>\n",
              "</svg>\n",
              "  </button>\n",
              "\n",
              "<style>\n",
              "  .colab-df-quickchart {\n",
              "      --bg-color: #E8F0FE;\n",
              "      --fill-color: #1967D2;\n",
              "      --hover-bg-color: #E2EBFA;\n",
              "      --hover-fill-color: #174EA6;\n",
              "      --disabled-fill-color: #AAA;\n",
              "      --disabled-bg-color: #DDD;\n",
              "  }\n",
              "\n",
              "  [theme=dark] .colab-df-quickchart {\n",
              "      --bg-color: #3B4455;\n",
              "      --fill-color: #D2E3FC;\n",
              "      --hover-bg-color: #434B5C;\n",
              "      --hover-fill-color: #FFFFFF;\n",
              "      --disabled-bg-color: #3B4455;\n",
              "      --disabled-fill-color: #666;\n",
              "  }\n",
              "\n",
              "  .colab-df-quickchart {\n",
              "    background-color: var(--bg-color);\n",
              "    border: none;\n",
              "    border-radius: 50%;\n",
              "    cursor: pointer;\n",
              "    display: none;\n",
              "    fill: var(--fill-color);\n",
              "    height: 32px;\n",
              "    padding: 0;\n",
              "    width: 32px;\n",
              "  }\n",
              "\n",
              "  .colab-df-quickchart:hover {\n",
              "    background-color: var(--hover-bg-color);\n",
              "    box-shadow: 0 1px 2px rgba(60, 64, 67, 0.3), 0 1px 3px 1px rgba(60, 64, 67, 0.15);\n",
              "    fill: var(--button-hover-fill-color);\n",
              "  }\n",
              "\n",
              "  .colab-df-quickchart-complete:disabled,\n",
              "  .colab-df-quickchart-complete:disabled:hover {\n",
              "    background-color: var(--disabled-bg-color);\n",
              "    fill: var(--disabled-fill-color);\n",
              "    box-shadow: none;\n",
              "  }\n",
              "\n",
              "  .colab-df-spinner {\n",
              "    border: 2px solid var(--fill-color);\n",
              "    border-color: transparent;\n",
              "    border-bottom-color: var(--fill-color);\n",
              "    animation:\n",
              "      spin 1s steps(1) infinite;\n",
              "  }\n",
              "\n",
              "  @keyframes spin {\n",
              "    0% {\n",
              "      border-color: transparent;\n",
              "      border-bottom-color: var(--fill-color);\n",
              "      border-left-color: var(--fill-color);\n",
              "    }\n",
              "    20% {\n",
              "      border-color: transparent;\n",
              "      border-left-color: var(--fill-color);\n",
              "      border-top-color: var(--fill-color);\n",
              "    }\n",
              "    30% {\n",
              "      border-color: transparent;\n",
              "      border-left-color: var(--fill-color);\n",
              "      border-top-color: var(--fill-color);\n",
              "      border-right-color: var(--fill-color);\n",
              "    }\n",
              "    40% {\n",
              "      border-color: transparent;\n",
              "      border-right-color: var(--fill-color);\n",
              "      border-top-color: var(--fill-color);\n",
              "    }\n",
              "    60% {\n",
              "      border-color: transparent;\n",
              "      border-right-color: var(--fill-color);\n",
              "    }\n",
              "    80% {\n",
              "      border-color: transparent;\n",
              "      border-right-color: var(--fill-color);\n",
              "      border-bottom-color: var(--fill-color);\n",
              "    }\n",
              "    90% {\n",
              "      border-color: transparent;\n",
              "      border-bottom-color: var(--fill-color);\n",
              "    }\n",
              "  }\n",
              "</style>\n",
              "\n",
              "  <script>\n",
              "    async function quickchart(key) {\n",
              "      const quickchartButtonEl =\n",
              "        document.querySelector('#' + key + ' button');\n",
              "      quickchartButtonEl.disabled = true;  // To prevent multiple clicks.\n",
              "      quickchartButtonEl.classList.add('colab-df-spinner');\n",
              "      try {\n",
              "        const charts = await google.colab.kernel.invokeFunction(\n",
              "            'suggestCharts', [key], {});\n",
              "      } catch (error) {\n",
              "        console.error('Error during call to suggestCharts:', error);\n",
              "      }\n",
              "      quickchartButtonEl.classList.remove('colab-df-spinner');\n",
              "      quickchartButtonEl.classList.add('colab-df-quickchart-complete');\n",
              "    }\n",
              "    (() => {\n",
              "      let quickchartButtonEl =\n",
              "        document.querySelector('#df-6bb432db-f811-430c-b00b-a453131ff9e3 button');\n",
              "      quickchartButtonEl.style.display =\n",
              "        google.colab.kernel.accessAllowed ? 'block' : 'none';\n",
              "    })();\n",
              "  </script>\n",
              "</div>\n",
              "    </div>\n",
              "  </div>\n"
            ]
          },
          "metadata": {},
          "execution_count": 25
        }
      ]
    },
    {
      "cell_type": "code",
      "source": [
        "# part (i): empirical histogram\n",
        "\n",
        "# here, i assume though it says 'histogram', it actually makes the most sense to build a bar chart, such that n can be on the x axis\n",
        "plt.bar(bdays.index + 1, bdays['count'] / np.sum(bdays['count']))\n",
        "plt.xlabel(\"n\")\n",
        "plt.ylabel(\"probability\")"
      ],
      "metadata": {
        "colab": {
          "base_uri": "https://localhost:8080/",
          "height": 466
        },
        "id": "sBoU-qfDVL_x",
        "outputId": "b9454e30-7b8a-4157-b04d-3a6dcbe0401c"
      },
      "execution_count": null,
      "outputs": [
        {
          "output_type": "execute_result",
          "data": {
            "text/plain": [
              "Text(0, 0.5, 'probability')"
            ]
          },
          "metadata": {},
          "execution_count": 109
        },
        {
          "output_type": "display_data",
          "data": {
            "text/plain": [
              "<Figure size 640x480 with 1 Axes>"
            ],
            "image/png": "[encoded data removed]"
          },
          "metadata": {}
        }
      ]
    },
    {
      "cell_type": "code",
      "source": [
        "# but also here's a real histogram too haha\n",
        "plt.hist(bdays['count'], density = True)\n",
        "plt.xlabel(\"count of people with this birthday\")"
      ],
      "metadata": {
        "colab": {
          "base_uri": "https://localhost:8080/",
          "height": 466
        },
        "id": "E-vv_vi_Ww36",
        "outputId": "e421921f-7e8d-4b38-c8b8-6adc099c70ff"
      },
      "execution_count": null,
      "outputs": [
        {
          "output_type": "execute_result",
          "data": {
            "text/plain": [
              "Text(0.5, 0, 'count of people with this birthday')"
            ]
          },
          "metadata": {},
          "execution_count": 111
        },
        {
          "output_type": "display_data",
          "data": {
            "text/plain": [
              "<Figure size 640x480 with 1 Axes>"
            ],
            "image/png": "[encoded data removed]"
          },
          "metadata": {}
        }
      ]
    },
    {
      "cell_type": "code",
      "source": [
        "# part (ii): empirical cdf\n",
        "\n",
        "# i think a cdf of the latter (the histogram with count of people with any birthday) would be useless, so let me present an empirical cdf across\n",
        "# values of n (which i think would be much more useful)\n",
        "\n",
        "cumsum = np.cumsum(np.array(bdays['count']))\n",
        "cum_freq = cumsum / np.sum(bdays['count'])\n",
        "\n",
        "plt.plot(np.arange(1,366,1), cum_freq, color = \"blue\")\n",
        "plt.title(\"Empirical CDF: Distribution of Birthdays\")\n",
        "plt.xlabel(\"n\")\n",
        "plt.ylabel(\"probability\")"
      ],
      "metadata": {
        "colab": {
          "base_uri": "https://localhost:8080/",
          "height": 489
        },
        "id": "iB8hAY_DW-Cq",
        "outputId": "237cba2d-eeaa-4978-d0f3-f6db39b7a9ad"
      },
      "execution_count": null,
      "outputs": [
        {
          "output_type": "execute_result",
          "data": {
            "text/plain": [
              "Text(0, 0.5, 'probability')"
            ]
          },
          "metadata": {},
          "execution_count": 113
        },
        {
          "output_type": "display_data",
          "data": {
            "text/plain": [
              "<Figure size 640x480 with 1 Axes>"
            ],
            "image/png": "[encoded data removed]"
          },
          "metadata": {}
        }
      ]
    },
    {
      "cell_type": "code",
      "source": [
        "# part (iii): Q-Q plot\n",
        "\n",
        "# code borrowed from rec6, Q3 answer\n",
        "R = np.arange(0,366,1)\n",
        "sizeR = len(R)\n",
        "\n",
        "Y = (np.array(range(sizeR))+0.5)/sizeR\n",
        "Z = np.zeros(sizeR)\n",
        "\n",
        "CDF = cum_freq\n",
        "\n",
        "CDF_idx = 0\n",
        "for i in range(sizeR):\n",
        "    while CDF[CDF_idx]<Y[i]:\n",
        "        CDF_idx += 1\n",
        "    Z[i] = CDF_idx\n",
        "\n",
        "plt.scatter(R,Z,s=5)\n",
        "plt.plot(range(365),':r')\n",
        "\n",
        "plt.title(\"Q-Q plot of empirical birthday data\")\n",
        "plt.show()"
      ],
      "metadata": {
        "colab": {
          "base_uri": "https://localhost:8080/",
          "height": 452
        },
        "id": "-mJ17f9zX6-m",
        "outputId": "6f50a158-c192-4316-9a9f-a74c4c217d8e"
      },
      "execution_count": null,
      "outputs": [
        {
          "output_type": "display_data",
          "data": {
            "text/plain": [
              "<Figure size 640x480 with 1 Axes>"
            ],
            "image/png": "[encoded data removed]"
          },
          "metadata": {}
        }
      ]
    },
    {
      "cell_type": "markdown",
      "source": [
        "___\n",
        "\n",
        "**(d)** Perform a Chi-square Test **and** a Kolmogorov-Smirnov Test to study how well the data is modeled by a uniform distribution.\n",
        "\n",
        "___"
      ],
      "metadata": {
        "id": "4983wTTlkaG0"
      }
    },
    {
      "cell_type": "markdown",
      "source": [
        "## Ans.\n"
      ],
      "metadata": {
        "id": "0dWUUfznkl5k"
      }
    },
    {
      "cell_type": "code",
      "source": [
        "# first, the chi-square test\n",
        "\n",
        "chisq = sc.stats.chisquare(bdays['count'], np.full(365, np.sum(bdays['count'])/365.0))\n",
        "print(\"Chi-square test statistic =\", chisq[0])\n",
        "print(\"p-value =\", chisq[1])"
      ],
      "metadata": {
        "id": "F3XLVod3kuIc",
        "colab": {
          "base_uri": "https://localhost:8080/"
        },
        "outputId": "72bbb639-50b7-4d84-f467-5f15f5ae3216"
      },
      "execution_count": 28,
      "outputs": [
        {
          "output_type": "stream",
          "name": "stdout",
          "text": [
            "Chi-square test statistic = 1352.7233599950073\n",
            "p-value = 1.2489373800065057e-113\n"
          ]
        }
      ]
    },
    {
      "cell_type": "code",
      "source": [
        "# now, the kolmogorov-smirnov test\n",
        "\n",
        "ks = sc.stats.kstest(bdays['count'], np.full(365, np.sum(bdays['count'])/365.0))\n",
        "print(\"K-S test statistic =\", ks[0])\n",
        "print(\"p-value =\", ks[1])"
      ],
      "metadata": {
        "colab": {
          "base_uri": "https://localhost:8080/"
        },
        "id": "Ix43cFEUb5RA",
        "outputId": "1bd45888-7b6b-4aae-bf21-0f280476075c"
      },
      "execution_count": 30,
      "outputs": [
        {
          "output_type": "stream",
          "name": "stdout",
          "text": [
            "K-S test statistic = 0.5397260273972603\n",
            "p-value = 4.4232442550925854e-49\n"
          ]
        }
      ]
    },
    {
      "cell_type": "markdown",
      "source": [
        "Regardless of test chosen, it seems the data is not very well modeled by a uniform distribution! Both p-values are very small ($p$ is far far less than 0.05 in both cases), suggesting we should reject the null that the distributions are identical, and thus that the birthdays are well-modelled by a uniform distribution."
      ],
      "metadata": {
        "id": "35jBHh4DeQ6U"
      }
    },
    {
      "cell_type": "markdown",
      "source": [
        "___\n",
        "\n",
        "**(e)** Since you have an extensive dataset of birthday frequency, you can directly use the nonparametric bootstrap to estimate the probability of at least two people sharing birthdays in a group of $n$. Plot the bootstrap estimate and $95\\%$ CI for $n\\in\\{15,16,\\ldots,30\\}$, and compare against the plot in part $(b)$.\n",
        "\n",
        "___"
      ],
      "metadata": {
        "id": "ga-5b3SSkoKp"
      }
    },
    {
      "cell_type": "markdown",
      "source": [
        "## Ans.\n"
      ],
      "metadata": {
        "id": "puJK5Zkio3RD"
      }
    },
    {
      "cell_type": "code",
      "source": [
        "# same rules as above for determining shared birthdays\n",
        "\n",
        "# get n\n",
        "n = np.arange(15,31,1)\n",
        "\n",
        "est = []\n",
        "std = []\n",
        "\n",
        "# setting k for 'pilot run'\n",
        "k = 100\n",
        "\n",
        "for i in range(len(n)):\n",
        "\n",
        "  # performing the pilot run\n",
        "\n",
        "  results = np.zeros(k)\n",
        "\n",
        "  for j in range(k):\n",
        "    sims = np.random.uniform(0, 1, n[i])\n",
        "    sims_value = np.searchsorted(cum_freq, sims) + 1\n",
        "\n",
        "    sims_value = pd.Series(sims_value)\n",
        "\n",
        "    if sims_value.duplicated().any():\n",
        "      results[j] = 1\n",
        "    else:\n",
        "      results[j] = 0\n",
        "\n",
        "  # computing std_k and mu_k, so we can adjust and find N\n",
        "  mu_k = np.sum(results) / k\n",
        "  std_k = np.std(results)\n",
        "\n",
        "  # finding N\n",
        "  N = int(np.ceil(1.96**2 * std_k**2 / (.005**2)))\n",
        "\n",
        "  # now, run the actual test, with sample size N\n",
        "\n",
        "  results = np.zeros(N)\n",
        "\n",
        "  for j in range(N):\n",
        "    sims = np.random.uniform(0, 1, n[i])\n",
        "    sims_value = np.searchsorted(cum_freq, sims) + 1\n",
        "\n",
        "    sims_value = pd.Series(sims_value)\n",
        "\n",
        "    if sims_value.duplicated().any():\n",
        "      results[j] = 1\n",
        "    else:\n",
        "      results[j] = 0\n",
        "\n",
        "  mu_N = np.sum(results) / N\n",
        "  std_N = np.std(results) / np.sqrt(N)\n",
        "\n",
        "  est.append(mu_N)\n",
        "  std.append(std_N)\n",
        "\n",
        "\n",
        "# plotting the output of the simulations, with CIs\n",
        "plt.plot(n, est, label = 'simulation', color = 'blue')\n",
        "plt.errorbar(n, est, yerr = 1.96 * np.array(std), ecolor = 'blue')\n",
        "\n",
        "\n",
        "plt.title(\"Bootstrapped Simulation: Birthday Paradox for n = [15,30]\")\n",
        "plt.xlabel(\"n\")\n",
        "plt.ylabel(\"probability\")\n",
        "\n"
      ],
      "metadata": {
        "id": "_Th2tmBoo5Lh",
        "colab": {
          "base_uri": "https://localhost:8080/",
          "height": 489
        },
        "outputId": "b087069d-556a-46b7-e15c-cf1331962dcb"
      },
      "execution_count": null,
      "outputs": [
        {
          "output_type": "execute_result",
          "data": {
            "text/plain": [
              "Text(0, 0.5, 'probability')"
            ]
          },
          "metadata": {},
          "execution_count": 129
        },
        {
          "output_type": "display_data",
          "data": {
            "text/plain": [
              "<Figure size 640x480 with 1 Axes>"
            ],
            "image/png": "[encoded data removed]"
          },
          "metadata": {}
        }
      ]
    },
    {
      "cell_type": "markdown",
      "source": [
        "**For comparison:** the plot largely follows the same contours as part (b) (starting with a probability $< 0.3$ at $n = 15$, ending with a probability around $0.7$ for $n = 30$), but has slightly more variation: of note, there seems to be a dip around $n = 24$ and unevenness from $n = 26$ to $n = 30$, but otherwise it looks nearly identical!"
      ],
      "metadata": {
        "id": "YcrB4z_5hsB2"
      }
    },
    {
      "cell_type": "markdown",
      "metadata": {
        "id": "FJhVnfbFb4GI"
      },
      "source": [
        "___\n",
        "___\n",
        "\n",
        "# Question 4: Benford's Law (30 pts)\n",
        "\n",
        "In this question, we will use the Chi-square test to study *Benford's law* in a variety of setttings. Consider a data set consisting of $n$ different numbers, and look at the leading digit of each number (for example, the leading digit of $123.456$ is $1$, and the leading digit of $-0.423$ is $4$). For many data sets, the fraction of leading digits that equal $1$ is much higher than $1/9$ (i.e., what it would be if uniformlly distributed); in fact, the probability distribution of the different leading digits $1, 2, \\ldots, 9$ is far from uniform.\n",
        "\n",
        "This observation has been observed to hold in measurements of distances to galaxies, numbers appearing in tax forms and many other settings, and has been used to detect fraud among other uses. See [the Wikipedia page](https://en.wikipedia.org/wiki/Benford\\%27s_law) for a description of this phenomena, and [this blog post](https://terrytao.wordpress.com/2009/07/03/benfords-law-zipfs-law-and-the-pareto-distribution/) for an interesting related discussion. More recently, this has also been (supposedly) misused in (supposedly) detecting (supposed) fraud in election results -- see [this Stand-Up Maths](https://www.youtube.com/watch?v=etx0k1nLn78&t=4s) video for a great example of how data analysis should be done!\n",
        "\n"
      ]
    },
    {
      "cell_type": "markdown",
      "metadata": {
        "id": "xCLoBig-b4GI"
      },
      "source": [
        "___\n",
        "\n",
        "**(a)** First, we will study this phenomena in a *synthetic* dataset. For this, compute the first digits of $n!$ for the first $1500$ integers, and plot their empirical histogram. You can use the code fragment provided to generate the first $n$ factorials.\n",
        "___\n"
      ]
    },
    {
      "cell_type": "markdown",
      "source": [
        "## Ans."
      ],
      "metadata": {
        "id": "YljDZzRgp_G8"
      }
    },
    {
      "cell_type": "code",
      "execution_count": 5,
      "metadata": {
        "id": "77FZ8tmCb4GI"
      },
      "outputs": [],
      "source": [
        "n = 1500\n",
        "\n",
        "#from scipy.misc import factorial\n",
        "fact_series = sc.special.factorial(np.arange(n),exact=True)\n",
        "first_digit = np.zeros(n)\n",
        "for i in range(n):\n",
        " first_digit[i] = int(str(fact_series[i])[0])"
      ]
    },
    {
      "cell_type": "markdown",
      "metadata": {
        "id": "HBT-fHg8b4GI"
      },
      "source": [
        "___\n",
        "**(b)** Use a Chi-square test to determine how well the data can be modeled using a uniform distribution.\n",
        "\n",
        "___\n"
      ]
    },
    {
      "cell_type": "markdown",
      "source": [
        "## Ans."
      ],
      "metadata": {
        "id": "0cfhwR8NqeWa"
      }
    },
    {
      "cell_type": "code",
      "execution_count": 9,
      "metadata": {
        "id": "Ehn4QDNZb4GI",
        "colab": {
          "base_uri": "https://localhost:8080/"
        },
        "outputId": "2059066f-053d-4a4c-bcd1-88235511465a"
      },
      "outputs": [
        {
          "output_type": "stream",
          "name": "stdout",
          "text": [
            "[1. 2. 3. 4. 5. 6. 7. 8. 9.]\n",
            "[438 255 183 163 112 124  80  77  68]\n"
          ]
        }
      ],
      "source": [
        "# first, getting the frequencies of the digits\n",
        "\n",
        "values, counts = np.unique(first_digit, return_counts = True)\n",
        "print(values)\n",
        "print(counts)"
      ]
    },
    {
      "cell_type": "code",
      "source": [
        "digit_freq = counts# / np.sum(counts)\n",
        "\n",
        "# then, the comparison distribution\n",
        "uniform_freq = np.full(9, np.sum(counts) / 9.0)"
      ],
      "metadata": {
        "id": "BDaS8mF0S6G8"
      },
      "execution_count": 22,
      "outputs": []
    },
    {
      "cell_type": "code",
      "source": [
        "print(digit_freq)"
      ],
      "metadata": {
        "colab": {
          "base_uri": "https://localhost:8080/"
        },
        "id": "RhChgKqZThwL",
        "outputId": "e8218f75-7d4f-4c5d-b6af-455ce4ad0f6d"
      },
      "execution_count": 20,
      "outputs": [
        {
          "output_type": "stream",
          "name": "stdout",
          "text": [
            "[0.292      0.17       0.122      0.10866667 0.07466667 0.08266667\n",
            " 0.05333333 0.05133333 0.04533333]\n"
          ]
        }
      ]
    },
    {
      "cell_type": "code",
      "source": [
        "# now, the chi-square test\n",
        "\n",
        "chisq = sc.stats.chisquare(digit_freq, uniform_freq)\n",
        "print(\"Chi-square test statistic =\", chisq[0])\n",
        "print(\"p-value =\", chisq[1])"
      ],
      "metadata": {
        "colab": {
          "base_uri": "https://localhost:8080/"
        },
        "id": "J89mHG34TWdg",
        "outputId": "7dedf038-8d2a-477f-866a-108485d0d9c5"
      },
      "execution_count": 23,
      "outputs": [
        {
          "output_type": "stream",
          "name": "stdout",
          "text": [
            "Chi-square test statistic = 670.8000000000002\n",
            "p-value = 1.3805718582880795e-139\n"
          ]
        }
      ]
    },
    {
      "cell_type": "markdown",
      "source": [
        "From this, it's clear the data is not very well represented by the uniform distribution! In fact, given $p$ is clearly less than 0.05, we reject the null hypothesis that the two distributions are the same (and thus reject that digits are well represented by a uniform)."
      ],
      "metadata": {
        "id": "quVj_FwzWIqC"
      }
    },
    {
      "cell_type": "markdown",
      "metadata": {
        "id": "okLmo5b2b4GI"
      },
      "source": [
        "___\n",
        "\n",
        "**(c)** Next, use a Chi-square test to test how well the data is modeled using the 'Benford's Law' distribution:\n",
        "$$p(d)= \\log _{10}(d+1)-\\log _{10}(d), \\quad d\\in\\{1,2,\\ldots,9\\}$$\n",
        "\n",
        "\n",
        "___"
      ]
    },
    {
      "cell_type": "code",
      "execution_count": 31,
      "metadata": {
        "id": "oz3YDgLpb4GI",
        "colab": {
          "base_uri": "https://localhost:8080/"
        },
        "outputId": "b339966b-220b-4197-fd45-8dbe1eb0eec0"
      },
      "outputs": [
        {
          "output_type": "stream",
          "name": "stdout",
          "text": [
            "[451.5449935  264.13688858 187.40810491 145.36501951 118.77186907\n",
            " 100.42018445  86.98792047  76.72878367  68.63623584]\n",
            "Chi-square test statistic = 9.456569118464648\n",
            "p-value = 0.3052548339606756\n"
          ]
        }
      ],
      "source": [
        "# first, let's find the expect counts\n",
        "\n",
        "d = np.arange(1,10,1)\n",
        "prob_d = np.log10(d + 1) - np.log10(d)\n",
        "d_freq = np.sum(counts) * prob_d\n",
        "\n",
        "print(d_freq)\n",
        "\n",
        "# now, the chi-square test\n",
        "\n",
        "chisq = sc.stats.chisquare(digit_freq, d_freq)\n",
        "print(\"Chi-square test statistic =\", chisq[0])\n",
        "print(\"p-value =\", chisq[1])"
      ]
    },
    {
      "cell_type": "markdown",
      "metadata": {
        "id": "rVl8W5m9b4GI"
      },
      "source": [
        "___\n",
        "\n",
        "**(d)** Finally, we will repeat this analysis with a more natural dataset. The dataset `us_pop.csv` contains the US population in 100,000 different zip codes in the year 2010, and the numbers range from less than ten to almost 100,000. As above, compute the histogram of the leading digits, and use the Chi-square test to see how well the data is modeled via the uniform and the Benford's law distributions.\n",
        "___"
      ]
    },
    {
      "cell_type": "markdown",
      "source": [
        "## Ans."
      ],
      "metadata": {
        "id": "rKyZ12L2srUZ"
      }
    },
    {
      "cell_type": "code",
      "execution_count": 33,
      "metadata": {
        "id": "vl7qScg0b4GI",
        "colab": {
          "base_uri": "https://localhost:8080/"
        },
        "outputId": "4734424e-4399-4788-f75b-30fbb0de4fc1"
      },
      "outputs": [
        {
          "output_type": "stream",
          "name": "stdout",
          "text": [
            "[1. 2. 2. 8. 2. 4. 3. 2. 5. 2.]\n"
          ]
        }
      ],
      "source": [
        "# read in data, get first digit\n",
        "\n",
        "zips = pd.read_csv(\"us_pop.csv\")\n",
        "zips.head()\n",
        "\n",
        "first_digit = np.zeros(len(zips))\n",
        "for i in range(len(zips)):\n",
        " first_digit[i] = int(str(zips['zipcode'][i])[0])\n",
        "\n",
        "print(first_digit[0:10])"
      ]
    },
    {
      "cell_type": "code",
      "source": [
        "# now, getting the frequencies of the digits\n",
        "\n",
        "zip_values, zip_counts = np.unique(first_digit, return_counts = True)\n",
        "print(zip_values)\n",
        "print(zip_counts)"
      ],
      "metadata": {
        "colab": {
          "base_uri": "https://localhost:8080/"
        },
        "id": "7WXmTB3VW3LB",
        "outputId": "1b066cd3-57bc-4423-cb21-600eef48d7f9"
      },
      "execution_count": 34,
      "outputs": [
        {
          "output_type": "stream",
          "name": "stdout",
          "text": [
            "[1. 2. 3. 4. 5. 6. 7. 8. 9.]\n",
            "[11907 10935 11104 12425 12099 12187 12277  7419  9647]\n"
          ]
        }
      ]
    },
    {
      "cell_type": "code",
      "source": [
        "# now, the comparison distributions\n",
        "\n",
        "uniform_zip = np.full(9, np.sum(zip_counts) / 9.0)\n",
        "d_uniform = np.sum(zip_counts) * prob_d"
      ],
      "metadata": {
        "id": "jODhikklXVBr"
      },
      "execution_count": 39,
      "outputs": []
    },
    {
      "cell_type": "code",
      "source": [
        "# lastly, the chi-square test on the uniform\n",
        "\n",
        "chisq = sc.stats.chisquare(zip_counts, uniform_zip)\n",
        "print(\"Chi-square test statistic =\", chisq[0])\n",
        "print(\"p-value =\", chisq[1])"
      ],
      "metadata": {
        "colab": {
          "base_uri": "https://localhost:8080/"
        },
        "id": "0tOj4OBtXe89",
        "outputId": "19c7fb7e-5c66-4aa4-b74d-4e8a5aa44869"
      },
      "execution_count": 36,
      "outputs": [
        {
          "output_type": "stream",
          "name": "stdout",
          "text": [
            "Chi-square test statistic = 1949.29856\n",
            "p-value = 0.0\n"
          ]
        }
      ]
    },
    {
      "cell_type": "code",
      "source": [
        "# and, the chi-square test on the benford's law dist\n",
        "\n",
        "chisq = sc.stats.chisquare(zip_counts, d_uniform)\n",
        "print(\"Chi-square test statistic =\", chisq[0])\n",
        "print(\"p-value =\", chisq[1])"
      ],
      "metadata": {
        "colab": {
          "base_uri": "https://localhost:8080/"
        },
        "id": "CQrw7hlsXlzG",
        "outputId": "bddc27ba-5f00-4968-9325-5265834901ca"
      },
      "execution_count": 37,
      "outputs": [
        {
          "output_type": "stream",
          "name": "stdout",
          "text": [
            "Chi-square test statistic = 35061.47098471453\n",
            "p-value = 0.0\n"
          ]
        }
      ]
    },
    {
      "cell_type": "markdown",
      "source": [
        "The interesting result that emerges is not only are the zip codes not well modelled by a uniform distribution ($p$ is clearly $< 0.05$ here), it's actually *worse* when you see if it's better modelled by the Benford's law distribution ($p$ is still $< 0.05$, AND the chi-sq test statistic went up dramatically). In this case, it seems the zip code data doesn't seem to follow either distribution, which is crazy."
      ],
      "metadata": {
        "id": "skO4N0oLYGh0"
      }
    },
    {
      "cell_type": "markdown",
      "source": [
        "**(e) (Optional for all students)** To understand how the Benford's law distribution originates, the important idea is that when a random variable $X$ ranges over several orders (say between $0$ and $10^6$), then it is better modelled by saying that $\\log_{10}(X)$ is uniformly distributed on interval $[0,6]$ (rather than $X$ being uniform on $[0,10^6]$. Using this, can you derive the the exact probabilities for each of the leading digits."
      ],
      "metadata": {
        "id": "adS-uJlsuEPA"
      }
    },
    {
      "cell_type": "code",
      "source": [],
      "metadata": {
        "id": "D3iMUEvEuRu8"
      },
      "execution_count": null,
      "outputs": []
    }
  ],
  "metadata": {
    "kernelspec": {
      "display_name": "Python 3",
      "language": "python",
      "name": "python3"
    },
    "language_info": {
      "codemirror_mode": {
        "name": "ipython",
        "version": 3
      },
      "file_extension": ".py",
      "mimetype": "text/x-python",
      "name": "python",
      "nbconvert_exporter": "python",
      "pygments_lexer": "ipython3",
      "version": "3.6.4"
    },
    "colab": {
      "provenance": [],
      "include_colab_link": true
    }
  },
  "nbformat": 4,
  "nbformat_minor": 0
}